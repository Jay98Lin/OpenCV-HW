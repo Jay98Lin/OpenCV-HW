{
 "cells": [
  {
   "cell_type": "markdown",
   "metadata": {},
   "source": [
    "## 練習 2-1\n",
    "> * 將 lenaColor.png 彩色讀入\n",
    "> * 將 b, g, r 分拆成三個 numpy 2 維的 array\n",
    "\n",
    "> * 將 b array 中的 [100:400, 150:415] 區塊變成白色(255)\n",
    "> * 將 g array 中的 [100:400, 150:415] 區塊變成白色*1/2(127)\n",
    "> * 將 r array 中的 [100:400, 150:415] 區塊變成黑色(0)\n",
    "\n",
    "> * 再將這三個 array 依 b, g, r 的順序黏回去組成一 3 維的 array 並顯示出來\n",
    "> * 再將這三個 array 依 g, r, b 的順序黏回去組成一 3 維的 array 並顯示出來\n",
    "> * 再將這三個 array 依 b, b, b 的順序黏回去組成一 3 維的 array 並顯示出來"
   ]
  },
  {
   "cell_type": "code",
   "execution_count": 59,
   "metadata": {},
   "outputs": [],
   "source": [
    "import cv2\n",
    "import numpy as np\n",
    "\n",
    "img = cv2.imread('../image/lenaColor.png', cv2.IMREAD_COLOR)\n",
    "\n",
    "b, g, r = cv2.split(img)\n",
    "    \n",
    "\n",
    "b[100:400, 150:415] = 255       \n",
    "g[100:400, 150:415] = 127      \n",
    "r[100:400, 150:415] = 0        \n",
    "    \n",
    "img_bgr = cv2.merge([b, g, r])  \n",
    "cv2.imshow('BGR', img_bgr)\n",
    "    \n",
    "img_grb = cv2.merge([g, r, b])  \n",
    "cv2.imshow('GRB', img_grb)\n",
    "    \n",
    "img_bbb = cv2.merge([b, b, b])  \n",
    "cv2.imshow('BBB', img_bbb)\n",
    "    \n",
    "cv2.waitKey(0)\n",
    "cv2.destroyAllWindows()\n"
   ]
  },
  {
   "cell_type": "markdown",
   "metadata": {},
   "source": [
    "---\n",
    "## 練習 2-2\n",
    "在一個 $512*512*3$ 的黑色畫布上, 利用畫圓的函數 cv2.circle, for loop 和 亂數\n",
    ">* 以畫布中心為圓心, 畫出 12 等距同心圓\n",
    ">* 12 同心圓RGB顏色隨機變換, 每次不一樣<br>\n",
    "><img src=\"..\\image\\circle2-1.jpg\"  style='width:50%'>"
   ]
  },
  {
   "cell_type": "code",
   "execution_count": 60,
   "metadata": {},
   "outputs": [
    {
     "data": {
      "text/plain": [
       "-1"
      ]
     },
     "execution_count": 60,
     "metadata": {},
     "output_type": "execute_result"
    }
   ],
   "source": [
    "import numpy as np\n",
    "import cv2\n",
    "\n",
    "canvas_size = (512, 512, 3)\n",
    "canvas = np.zeros(canvas_size, dtype=np.uint8)\n",
    "center = (canvas_size[1] // 2, canvas_size[0] // 2)\n",
    "\n",
    "for i in range(12):\n",
    "    radius = i * 20 \n",
    "    color = tuple(np.random.randint(0, 256, size=3).tolist())\n",
    "    cv2.circle(canvas, center, radius, color, 5)\n",
    "\n",
    "cv2.imshow(\"Canvas with Concentric Circles\", canvas)\n",
    "cv2.waitKey(0)\n",
    "cv2.destroyAllWindows()\n",
    "cv2.waitKey(1)\n"
   ]
  },
  {
   "cell_type": "markdown",
   "metadata": {},
   "source": [
    "---\n",
    "## 練習 2-3\n",
    "在一個 $512*512*3$ 的黑色畫布上, 利用畫橢圓的函數 cv2.ellipse 和 for loop\n",
    ">* 以畫布中心為圓心, 畫出 12 同心等分 360 度橢圓, 顏色一樣<br>\n",
    "><img src=\"..\\image\\ellipse2-2.jpg\"  style='width:50%'>"
   ]
  },
  {
   "cell_type": "code",
   "execution_count": 61,
   "metadata": {},
   "outputs": [],
   "source": [
    "import numpy as np\n",
    "import cv2\n",
    "\n",
    "canvas_size = (512, 512, 3)\n",
    "canvas = np.zeros(canvas_size, dtype=np.uint8)\n",
    "\n",
    "center = (canvas_size[1] // 2, canvas_size[0] // 2)\n",
    "\n",
    "color = (0, 127, 255) \n",
    "\n",
    "for i in range(12):\n",
    "\n",
    "    axis_length = (50, 200)\n",
    "    angle = i * (360 / 24) \n",
    "\n",
    "    cv2.ellipse(canvas, center, axis_length, angle, 0, 360, color, 2)\n",
    "\n",
    "cv2.imshow('Concentric Ellipses', canvas)\n",
    "cv2.waitKey(0)\n",
    "cv2.destroyAllWindows()\n",
    "\n"
   ]
  },
  {
   "cell_type": "markdown",
   "metadata": {},
   "source": [
    "---\n",
    "## 練習 2-4 \n",
    "在一個 $400*600*3$ 的黑色畫布上, 利用畫圓的函數隨機產生 40 個 (圓心隨機, 填滿顏色隨機, 半徑隨機)\n",
    "><img src=\"..\\image\\circle2-2.jpg\"  style='width:50%'>"
   ]
  },
  {
   "cell_type": "code",
   "execution_count": null,
   "metadata": {},
   "outputs": [
    {
     "ename": "",
     "evalue": "",
     "output_type": "error",
     "traceback": [
      "\u001b[1;31mRunning cells with 'myenv' requires the ipykernel package.\n",
      "\u001b[1;31mRun the following command to install 'ipykernel' into the Python environment. \n",
      "\u001b[1;31mCommand: 'conda install -n myenv ipykernel --update-deps --force-reinstall'"
     ]
    }
   ],
   "source": [
    "import numpy as np\n",
    "import cv2\n",
    "\n",
    "canvas_size = (400, 600, 3)\n",
    "canvas = np.zeros(canvas_size, dtype=np.uint8)\n",
    "\n",
    "for i in range(40):\n",
    "  \n",
    "    center = (np.random.randint(0, canvas_size[1]), np.random.randint(0, canvas_size[0]))\n",
    "  \n",
    "    radius = np.random.randint(5, 50)\n",
    "  \n",
    "    color = tuple(np.random.randint(0, 256, size=3).tolist())\n",
    "   \n",
    "    cv2.circle(canvas, center, radius, color, -1)\n",
    "\n",
    "cv2.imshow(\"Canvas with Random Circles\", canvas)\n",
    "cv2.waitKey(0)\n",
    "cv2.destroyAllWindows()\n",
    "cv2.waitKey(1)\n",
    "        "
   ]
  },
  {
   "cell_type": "markdown",
   "metadata": {},
   "source": []
  },
  {
   "cell_type": "code",
   "execution_count": null,
   "metadata": {},
   "outputs": [],
   "source": []
  }
 ],
 "metadata": {
  "kernelspec": {
   "display_name": "Python 3 (ipykernel)",
   "language": "python",
   "name": "python3"
  },
  "language_info": {
   "codemirror_mode": {
    "name": "ipython",
    "version": 3
   },
   "file_extension": ".py",
   "mimetype": "text/x-python",
   "name": "python",
   "nbconvert_exporter": "python",
   "pygments_lexer": "ipython3",
   "version": "3.8.10"
  }
 },
 "nbformat": 4,
 "nbformat_minor": 4
}
